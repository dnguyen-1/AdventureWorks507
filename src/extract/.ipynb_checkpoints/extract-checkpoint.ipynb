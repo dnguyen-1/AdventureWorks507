{
 "cells": [
  {
   "cell_type": "code",
   "execution_count": null,
   "id": "343cf9e3-706e-4c56-a596-1ae5a774b47d",
   "metadata": {},
   "outputs": [],
   "source": [
    "#import packages"
   ]
  },
  {
   "cell_type": "code",
   "execution_count": 31,
   "id": "b5d28a7c-cf1b-455e-9dd9-a33dc94d3ce6",
   "metadata": {},
   "outputs": [
    {
     "name": "stdout",
     "output_type": "stream",
     "text": [
      "Data fetched from repository\n"
     ]
    }
   ],
   "source": [
    "import requests\n",
    "import pandas as pd\n",
    "from io import StringIO  # Import StringIO from the io module\n",
    "\n",
    "def fetch_csv_from_github(url):\n",
    "    response = requests.get(url)\n",
    "    response.raise_for_status()  # Check if the request was successful\n",
    "\n",
    "    # Convert the raw CSV data into a pandas DataFrame\n",
    "    data = pd.read_csv(StringIO(response.text))\n",
    "    return data\n",
    "\n",
    "# URL of the raw CSV file on GitHub\n",
    "customers_csv = \"https://raw.githubusercontent.com/dnguyen-1/AdventureWorks507/main/data/Customer.csv\"\n",
    "salesorderdetail_csv = \"https://raw.githubusercontent.com/dnguyen-1/AdventureWorks507/main/data/SalesOrderDetail.csv\"\n",
    "salesterritory_csv = \"https://raw.githubusercontent.com/dnguyen-1/AdventureWorks507/main/data/SalesTerritory.csv\"\n",
    "purchaseorderdetail_csv = \"https://raw.githubusercontent.com/dnguyen-1/AdventureWorks507/main/data/PurchaseOrderDetail.csv\"\n",
    "shipmethod_csv = \"https://raw.githubusercontent.com/dnguyen-1/AdventureWorks507/main/data/ShipMethod.csv\"\n",
    "employee_csv = \"https://raw.githubusercontent.com/dnguyen-1/AdventureWorks507/main/data/Employee.csv\"\n",
    "\n",
    "#Fetch Data\n",
    "Customers = fetch_csv_from_github(customers_csv)\n",
    "SalesOrderDetail = fetch_csv_from_github(salesorderdetail_csv)\n",
    "SalesTerritory = fetch_csv_from_github(salesterritory_csv)\n",
    "PurchaseOrderDetail = fetch_csv_from_github(purchaseorderdetail_csv)\n",
    "ShipMethod = fetch_csv_from_github(shipmethod_csv)\n",
    "Employee = fetch_csv_from_github(employee_csv)\n",
    "\n",
    "print(\"Data fetched from repository\")"
   ]
  },
  {
   "cell_type": "code",
   "execution_count": 37,
   "id": "58c3bde0-4413-420e-bf3f-e675470aa82a",
   "metadata": {},
   "outputs": [],
   "source": [
    "import requests\n",
    "import pandas as pd\n",
    "from io import StringIO\n",
    "from sqlalchemy import create_engine\n",
    "\n",
    "def fetch_csv_from_github(url):\n",
    "    response = requests.get(url)\n",
    "    response.raise_for_status()  # Check if the request was successful\n",
    "\n",
    "    # Convert the raw data into a pandas DataFrame (handling tab separation)\n",
    "    data = pd.read_csv(StringIO(response.text), delimiter='\\t', header=None)\n",
    "\n",
    "    # Return cleaned data\n",
    "    return data\n",
    "\n",
    "# URL of the raw CSV file on GitHub\n",
    "customers_csv = \"https://raw.githubusercontent.com/dnguyen-1/AdventureWorks507/main/data/Customer.csv\"\n",
    "salesorderdetail_csv = \"https://raw.githubusercontent.com/dnguyen-1/AdventureWorks507/main/data/SalesOrderDetail.csv\"\n",
    "salesterritory_csv = \"https://raw.githubusercontent.com/dnguyen-1/AdventureWorks507/main/data/SalesTerritory.csv\"\n",
    "purchaseorderdetail_csv = \"https://raw.githubusercontent.com/dnguyen-1/AdventureWorks507/main/data/PurchaseOrderDetail.csv\"\n",
    "shipmethod_csv = \"https://raw.githubusercontent.com/dnguyen-1/AdventureWorks507/main/data/ShipMethod.csv\"\n",
    "employee_csv = \"https://raw.githubusercontent.com/dnguyen-1/AdventureWorks507/main/data/Employee.csv\"\n",
    "\n",
    "# Fetch Data\n",
    "Customers = fetch_csv_from_github(customers_csv)\n",
    "SalesOrderDetail = fetch_csv_from_github(salesorderdetail_csv)\n",
    "SalesTerritory = fetch_csv_from_github(salesterritory_csv)\n",
    "PurchaseOrderDetail = fetch_csv_from_github(purchaseorderdetail_csv)\n",
    "ShipMethod = fetch_csv_from_github(shipmethod_csv)\n",
    "Employee = fetch_csv_from_github(employee_csv)"
   ]
  },
  {
   "cell_type": "code",
   "execution_count": 39,
   "id": "cbf4275c-ad09-42c0-9043-7a136157d511",
   "metadata": {},
   "outputs": [
    {
     "name": "stdout",
     "output_type": "stream",
     "text": [
      "Data loaded successfully into MySQL.\n",
      "Error checking tables: Not an executable object: 'SHOW TABLES'\n"
     ]
    }
   ],
   "source": [
    "import pandas as pd\n",
    "from sqlalchemy import create_engine\n",
    "import pymysql  # To handle MySQL connection\n",
    "\n",
    "# MySQL connection string\n",
    "server = 'team-shared-mysql.cjwa24wuisi8.us-east-1.rds.amazonaws.com'\n",
    "database = 'AdventureSales'\n",
    "username = 'Ads507'\n",
    "password = 'Gabrielleo24'\n",
    "connection_string = f'mysql+pymysql://{username}:{password}@{server}/{database}'\n",
    "\n",
    "# Create the SQLAlchemy engine to connect to the database\n",
    "engine = create_engine(connection_string)\n",
    "\n",
    "# Function to load data into MySQL\n",
    "def load_data_to_mysql():\n",
    "    try:\n",
    "        # Load the data into MySQL tables (replace existing tables)\n",
    "        PurchaseOrderDetail.to_sql('PurchaseOrderDetail', con=engine, if_exists='replace', index=False)\n",
    "        Customers.to_sql('Customers', con=engine, if_exists='replace', index=False)\n",
    "        SalesOrderDetail.to_sql('SalesOrderDetail', con=engine, if_exists='replace', index=False)\n",
    "        SalesTerritory.to_sql('SalesTerritory', con=engine, if_exists='replace', index=False)\n",
    "        ShipMethod.to_sql('ShipMethod', con=engine, if_exists='replace', index=False)\n",
    "        Employee.to_sql('Employee', con=engine, if_exists='replace', index=False)\n",
    "\n",
    "        print(\"Data loaded successfully into MySQL.\")\n",
    "    \n",
    "    except Exception as e:\n",
    "        print(f\"Error loading data: {e}\")\n"
   ]
  },
  {
   "cell_type": "code",
   "execution_count": 43,
   "id": "2da427d5-47f1-4517-99fc-3415e9f73e15",
   "metadata": {},
   "outputs": [],
   "source": [
    "import pandas as pd\n",
    "from sqlalchemy import create_engine\n",
    "import pymysql  # To handle MySQL connection\n",
    "\n",
    "# MySQL connection string\n",
    "server = 'team-shared-mysql.cjwa24wuisi8.us-east-1.rds.amazonaws.com'\n",
    "database = 'AdventureSales'\n",
    "username = 'Ads507'\n",
    "password = 'Gabrielleo24'\n",
    "connection_string = f'mysql+pymysql://{username}:{password}@{server}/{database}'\n",
    "\n",
    "# Create the SQLAlchemy engine to connect to the database\n",
    "engine = create_engine(connection_string)\n",
    "\n",
    "# Function to load data into MySQL\n",
    "def load_data_to_mysql():\n",
    "    try:\n",
    "        # Manually ensure the column names are set\n",
    "        Customers.columns = ['CustomerID', 'PersonID', 'StoreID', 'TerritoryID', 'Accountnumber', 'rowguid', 'ModifiedDate']\n",
    "        SalesOrderDetail.columns = ['SalesOrderID', 'SalesOrderDetailID', 'CarrierTrackingNumber', 'OrderQty', 'ProductID', 'SpecialOfferID', 'UnitPrice', 'UnitDiscount', 'LineTotal', 'rowguid', 'ModifiedDate']\n",
    "        SalesTerritory.columns = ['TerritoryID', 'Name','CountryRegionCode', 'Geo_Group', 'SalesYTD', 'SalesLastYear', 'CostYTD', 'CostLastYear', 'rowguid', 'ModifiedDate']\n",
    "        PurchaseOrderDetail.columns = ['PurchaseOrderID', 'PurchaseOrderDetailID', 'DueDate', 'OrderQty', 'ProductID', 'UnitPrice', 'LineTotal', 'ReceivedQty', 'RejectQty', 'StockedQty', 'ModifiedDate']\n",
    "        ShipMethod.columns = ['ShipMethodID', 'Name', 'ShipBase', 'ShipRate', 'rowguid', 'ModifiedDate']\n",
    "        Employee.columns = ['BusinessEntityID', 'NationalIDNumber', 'LoginID', 'OrganizationNode', 'OrganizationLevel', 'JobTitle', 'BirthDate', 'MaritalStatus', 'Gender', 'HireDate', 'SalariedFlag', 'VacationHours', 'SickLeaveHours', 'CurrentFlag', 'rowguid', 'ModifiedDate',]\n",
    "\n",
    "        # Load the data into MySQL tables (replace existing tables)\n",
    "        PurchaseOrderDetail.to_sql('PurchaseOrderDetail', con=engine, if_exists='replace', index=False)\n",
    "        Customers.to_sql('Customers', con=engine, if_exists='replace', index=False)\n",
    "        SalesOrderDetail.to_sql('SalesOrderDetail', con=engine, if_exists='replace', index=False)\n",
    "        SalesTerritory.to_sql('SalesTerritory', con=engine, if_exists='replace', index=False)\n",
    "        ShipMethod.to_sql('ShipMethod', con=engine, if_exists='replace', index=False)\n",
    "        Employee.to_sql('Employee', con=engine, if_exists='replace', index=False)\n",
    "\n",
    "        print(\"Data loaded successfully into MySQL.\")\n",
    "    \n",
    "    except Exception as e:\n",
    "        print(f\"Error loading data: {e}\")\n"
   ]
  },
  {
   "cell_type": "code",
   "execution_count": null,
   "id": "ceb8b040-0637-44dd-aad5-bc7df0a21ff5",
   "metadata": {},
   "outputs": [],
   "source": []
  }
 ],
 "metadata": {
  "kernelspec": {
   "display_name": "Python 3 (ipykernel)",
   "language": "python",
   "name": "python3"
  },
  "language_info": {
   "codemirror_mode": {
    "name": "ipython",
    "version": 3
   },
   "file_extension": ".py",
   "mimetype": "text/x-python",
   "name": "python",
   "nbconvert_exporter": "python",
   "pygments_lexer": "ipython3",
   "version": "3.11.7"
  }
 },
 "nbformat": 4,
 "nbformat_minor": 5
}
