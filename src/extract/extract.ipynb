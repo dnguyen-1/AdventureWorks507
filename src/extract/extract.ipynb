{
 "cells": [
  {
   "cell_type": "code",
   "execution_count": null,
   "id": "343cf9e3-706e-4c56-a596-1ae5a774b47d",
   "metadata": {},
   "outputs": [],
   "source": [
    "#import packages"
   ]
  },
  {
   "cell_type": "code",
   "execution_count": 6,
   "id": "b5d28a7c-cf1b-455e-9dd9-a33dc94d3ce6",
   "metadata": {},
   "outputs": [
    {
     "ename": "HTTPError",
     "evalue": "404 Client Error: Not Found for url: https://raw.githubusercontent.com/dnguyen-1/AdventureWorks507/main/data/Customer.csv",
     "output_type": "error",
     "traceback": [
      "\u001b[0;31m---------------------------------------------------------------------------\u001b[0m",
      "\u001b[0;31mHTTPError\u001b[0m                                 Traceback (most recent call last)",
      "Cell \u001b[0;32mIn[6], line 24\u001b[0m\n\u001b[1;32m     22\u001b[0m \u001b[38;5;66;03m# Fetch and print the data\u001b[39;00m\n\u001b[1;32m     23\u001b[0m PurchaseOrderDetail \u001b[38;5;241m=\u001b[39m fetch_csv_from_github(podetail_csv)\n\u001b[0;32m---> 24\u001b[0m Customer \u001b[38;5;241m=\u001b[39m \u001b[43mfetch_csv_from_github\u001b[49m\u001b[43m(\u001b[49m\u001b[43mcustomers_csv\u001b[49m\u001b[43m)\u001b[49m\n\u001b[1;32m     25\u001b[0m SalesOrderDetail \u001b[38;5;241m=\u001b[39m fetch_csv_from_github(salesorderdetail_csv)\n\u001b[1;32m     26\u001b[0m SalesTerritory \u001b[38;5;241m=\u001b[39m fetch_csv_from_github(salesterritory_csv)\n",
      "Cell \u001b[0;32mIn[6], line 7\u001b[0m, in \u001b[0;36mfetch_csv_from_github\u001b[0;34m(url)\u001b[0m\n\u001b[1;32m      5\u001b[0m \u001b[38;5;28;01mdef\u001b[39;00m \u001b[38;5;21mfetch_csv_from_github\u001b[39m(url):\n\u001b[1;32m      6\u001b[0m     response \u001b[38;5;241m=\u001b[39m requests\u001b[38;5;241m.\u001b[39mget(url)\n\u001b[0;32m----> 7\u001b[0m     \u001b[43mresponse\u001b[49m\u001b[38;5;241;43m.\u001b[39;49m\u001b[43mraise_for_status\u001b[49m\u001b[43m(\u001b[49m\u001b[43m)\u001b[49m  \u001b[38;5;66;03m# Check if the request was successful\u001b[39;00m\n\u001b[1;32m      9\u001b[0m     \u001b[38;5;66;03m# Convert the raw CSV data into a pandas DataFrame\u001b[39;00m\n\u001b[1;32m     10\u001b[0m     data \u001b[38;5;241m=\u001b[39m pd\u001b[38;5;241m.\u001b[39mread_csv(StringIO(response\u001b[38;5;241m.\u001b[39mtext))\n",
      "File \u001b[0;32m~/miniconda3/lib/python3.11/site-packages/requests/models.py:1021\u001b[0m, in \u001b[0;36mResponse.raise_for_status\u001b[0;34m(self)\u001b[0m\n\u001b[1;32m   1016\u001b[0m     http_error_msg \u001b[38;5;241m=\u001b[39m (\n\u001b[1;32m   1017\u001b[0m         \u001b[38;5;124mf\u001b[39m\u001b[38;5;124m\"\u001b[39m\u001b[38;5;132;01m{\u001b[39;00m\u001b[38;5;28mself\u001b[39m\u001b[38;5;241m.\u001b[39mstatus_code\u001b[38;5;132;01m}\u001b[39;00m\u001b[38;5;124m Server Error: \u001b[39m\u001b[38;5;132;01m{\u001b[39;00mreason\u001b[38;5;132;01m}\u001b[39;00m\u001b[38;5;124m for url: \u001b[39m\u001b[38;5;132;01m{\u001b[39;00m\u001b[38;5;28mself\u001b[39m\u001b[38;5;241m.\u001b[39murl\u001b[38;5;132;01m}\u001b[39;00m\u001b[38;5;124m\"\u001b[39m\n\u001b[1;32m   1018\u001b[0m     )\n\u001b[1;32m   1020\u001b[0m \u001b[38;5;28;01mif\u001b[39;00m http_error_msg:\n\u001b[0;32m-> 1021\u001b[0m     \u001b[38;5;28;01mraise\u001b[39;00m HTTPError(http_error_msg, response\u001b[38;5;241m=\u001b[39m\u001b[38;5;28mself\u001b[39m)\n",
      "\u001b[0;31mHTTPError\u001b[0m: 404 Client Error: Not Found for url: https://raw.githubusercontent.com/dnguyen-1/AdventureWorks507/main/data/Customer.csv"
     ]
    }
   ],
   "source": [
    "import requests\n",
    "import pandas as pd\n",
    "from io import StringIO  # Import StringIO from the io module\n",
    "\n",
    "def fetch_csv_from_github(url):\n",
    "    response = requests.get(url)\n",
    "    response.raise_for_status()  # Check if the request was successful\n",
    "\n",
    "    # Convert the raw CSV data into a pandas DataFrame\n",
    "    data = pd.read_csv(StringIO(response.text))\n",
    "    return data\n",
    "\n",
    "# URL of the raw CSV file on GitHub\n",
    "podetail_csv = \"https://raw.githubusercontent.com/dnguyen-1/AdventureWorks507/main/data/PurchaseOrderDetail.csv\"\n",
    "customers_csv = \"https://raw.githubusercontent.com/dnguyen-1/AdventureWorks507/main/data/Customer.csv\"\n",
    "salesorderdetail_csv = \"https://raw.githubusercontent.com/dnguyen-1/AdventureWorks507/main/data/SalesOrderDetail.csv\"\n",
    "salesterritory_csv = \"https://raw.githubusercontent.com/dnguyen-1/AdventureWorks507/main/data/SalesTerritory.csv\"\n",
    "purchaseorderdetail_csv = \"https://raw.githubusercontent.com/dnguyen-1/AdventureWorks507/main/data/PurchaseOrderDetail.csv\"\n",
    "shipmethod_csv = \"https://raw.githubusercontent.com/dnguyen-1/AdventureWorks507/main/data/ShipMethod.csv\"\n",
    "employee_csv = \"https://raw.githubusercontent.com/dnguyen-1/AdventureWorks507/main/data/Employee.csv\"\n",
    "\n",
    "# Fetch and print the data\n",
    "PurchaseOrderDetail = fetch_csv_from_github(podetail_csv)\n",
    "Customer = fetch_csv_from_github(customers_csv)\n",
    "SalesOrderDetail = fetch_csv_from_github(salesorderdetail_csv)\n",
    "SalesTerritory = fetch_csv_from_github(salesterritory_csv)\n",
    "PurchaseOrderDetail = fetch_csv_from_github(purchaseorderdetail_csv)\n",
    "ShipMethod = fetch_csv_from_github(shipmethod_csv)\n",
    "Employee = fetch_csv_from_github(employee_csv)\n"
   ]
  },
  {
   "cell_type": "code",
   "execution_count": null,
   "id": "bd9dcc98-093d-41c4-b8d6-c162549bc8a7",
   "metadata": {},
   "outputs": [],
   "source": []
  },
  {
   "cell_type": "code",
   "execution_count": null,
   "id": "cbf4275c-ad09-42c0-9043-7a136157d511",
   "metadata": {},
   "outputs": [],
   "source": []
  }
 ],
 "metadata": {
  "kernelspec": {
   "display_name": "Python 3 (ipykernel)",
   "language": "python",
   "name": "python3"
  },
  "language_info": {
   "codemirror_mode": {
    "name": "ipython",
    "version": 3
   },
   "file_extension": ".py",
   "mimetype": "text/x-python",
   "name": "python",
   "nbconvert_exporter": "python",
   "pygments_lexer": "ipython3",
   "version": "3.11.7"
  }
 },
 "nbformat": 4,
 "nbformat_minor": 5
}
