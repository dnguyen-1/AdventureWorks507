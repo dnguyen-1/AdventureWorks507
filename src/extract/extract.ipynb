{
 "cells": [
  {
   "cell_type": "code",
   "execution_count": null,
   "id": "343cf9e3-706e-4c56-a596-1ae5a774b47d",
   "metadata": {},
   "outputs": [],
   "source": [
    "#import packages"
   ]
  },
  {
   "cell_type": "code",
   "execution_count": 11,
   "id": "b5d28a7c-cf1b-455e-9dd9-a33dc94d3ce6",
   "metadata": {},
   "outputs": [
    {
     "name": "stdout",
     "output_type": "stream",
     "text": [
      "Data fetched from repository\n"
     ]
    }
   ],
   "source": [
    "import requests\n",
    "import pandas as pd\n",
    "from io import StringIO  # Import StringIO from the io module\n",
    "\n",
    "def fetch_csv_from_github(url):\n",
    "    response = requests.get(url)\n",
    "    response.raise_for_status()  # Check if the request was successful\n",
    "\n",
    "    # Convert the raw CSV data into a pandas DataFrame\n",
    "    data = pd.read_csv(StringIO(response.text))\n",
    "    return data\n",
    "\n",
    "# URL of the raw CSV file on GitHub\n",
    "podetail_csv = \"https://raw.githubusercontent.com/dnguyen-1/AdventureWorks507/main/data/PurchaseOrderDetail.csv\"\n",
    "customers_csv = \"https://raw.githubusercontent.com/dnguyen-1/AdventureWorks507/main/data/Customer.csv\"\n",
    "salesorderdetail_csv = \"https://raw.githubusercontent.com/dnguyen-1/AdventureWorks507/main/data/SalesOrderDetail.csv\"\n",
    "salesterritory_csv = \"https://raw.githubusercontent.com/dnguyen-1/AdventureWorks507/main/data/SalesTerritory.csv\"\n",
    "purchaseorderdetail_csv = \"https://raw.githubusercontent.com/dnguyen-1/AdventureWorks507/main/data/PurchaseOrderDetail.csv\"\n",
    "shipmethod_csv = \"https://raw.githubusercontent.com/dnguyen-1/AdventureWorks507/main/data/ShipMethod.csv\"\n",
    "employee_csv = \"https://raw.githubusercontent.com/dnguyen-1/AdventureWorks507/main/data/Employee.csv\"\n",
    "\n",
    "# Fetch and print the data\n",
    "PurchaseOrderDetail = fetch_csv_from_github(podetail_csv)\n",
    "Customer = fetch_csv_from_github(customers_csv)\n",
    "SalesOrderDetail = fetch_csv_from_github(salesorderdetail_csv)\n",
    "SalesTerritory = fetch_csv_from_github(salesterritory_csv)\n",
    "PurchaseOrderDetail = fetch_csv_from_github(purchaseorderdetail_csv)\n",
    "ShipMethod = fetch_csv_from_github(shipmethod_csv)\n",
    "Employee = fetch_csv_from_github(employee_csv)\n",
    "\n",
    "print(\"Data fetched from repository\")"
   ]
  },
  {
   "cell_type": "code",
   "execution_count": null,
   "id": "bd9dcc98-093d-41c4-b8d6-c162549bc8a7",
   "metadata": {},
   "outputs": [],
   "source": []
  },
  {
   "cell_type": "code",
   "execution_count": null,
   "id": "cbf4275c-ad09-42c0-9043-7a136157d511",
   "metadata": {},
   "outputs": [],
   "source": []
  }
 ],
 "metadata": {
  "kernelspec": {
   "display_name": "Python 3 (ipykernel)",
   "language": "python",
   "name": "python3"
  },
  "language_info": {
   "codemirror_mode": {
    "name": "ipython",
    "version": 3
   },
   "file_extension": ".py",
   "mimetype": "text/x-python",
   "name": "python",
   "nbconvert_exporter": "python",
   "pygments_lexer": "ipython3",
   "version": "3.11.7"
  }
 },
 "nbformat": 4,
 "nbformat_minor": 5
}
